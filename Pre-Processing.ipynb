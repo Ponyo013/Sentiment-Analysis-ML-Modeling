{
 "cells": [
  {
   "cell_type": "code",
   "execution_count": 40,
   "id": "5da36311-0195-46e3-8651-5e6036851379",
   "metadata": {},
   "outputs": [
    {
     "name": "stdout",
     "output_type": "stream",
     "text": [
      "new dataset has been created\n"
     ]
    }
   ],
   "source": [
    "# Combine the dataset\n",
    "import pandas as pd\n",
    "import glob\n",
    "\n",
    "files = glob.glob(\"dataset/*.csv\")\n",
    "\n",
    "# Take only the content column\n",
    "all_data = []\n",
    "for f in files:\n",
    "    df = pd.read_csv(f)\n",
    "    if \"content\" in df.columns:\n",
    "        all_data.append(df[\"content\"])\n",
    "\n",
    "# Combine them into a one column\n",
    "combined = pd.concat(all_data, ignore_index=True)\n",
    "\n",
    "# Save to new CSV\n",
    "combined.to_csv(\"marketPlacesData.csv\", index=False, header=[\"content\"])\n",
    "print(\"new dataset has been created\")"
   ]
  },
  {
   "cell_type": "code",
   "execution_count": 41,
   "id": "ea028fb4-782f-47e8-91e8-fd0c2b53708f",
   "metadata": {},
   "outputs": [
    {
     "name": "stdout",
     "output_type": "stream",
     "text": [
      "Data cleaning Success\n"
     ]
    }
   ],
   "source": [
    "# Data Cleaning\n",
    "\n",
    "import re\n",
    "import emoji\n",
    "\n",
    "df = pd.read_csv(\"marketPlacesData.csv\")\n",
    "\n",
    "def clean_text(text):\n",
    "    if pd.isnull(text):\n",
    "        return \"\"\n",
    "\n",
    "    # Convert Emoji to Textual\n",
    "    text = emoji.demojize(text, language=\"id\")\n",
    "\n",
    "    # remove special character\n",
    "    text = re.sub(r'[^A-Za-z0-9\\s]', ' ', text)\n",
    "\n",
    "    # remove number\n",
    "    text = re.sub(r'[0-9]+',' ', text)\n",
    "\n",
    "    # remove multiple spacing\n",
    "    text = re.sub(r\"\\s+\", \" \", text).strip()\n",
    "\n",
    "    # Case Folding \n",
    "    text = text.lower()\n",
    "\n",
    "    return text\n",
    "\n",
    "df[\"data_clean\"] = df[\"content\"].apply(clean_text)\n",
    "df.to_csv(\"cleaned_marketPlacesData.csv\", index=False)\n",
    "\n",
    "print(\"Data cleaning Success\")"
   ]
  },
  {
   "cell_type": "code",
   "execution_count": 42,
   "id": "4c7eefce-6439-4f67-bdde-edece7636d35",
   "metadata": {},
   "outputs": [
    {
     "name": "stdout",
     "output_type": "stream",
     "text": [
      "Slang Replacement Success\n"
     ]
    }
   ],
   "source": [
    "# Slang replacement\n",
    "\n",
    "# kamus bahasa gaul\n",
    "slang_df = pd.read_csv(\"cleaning/slang_indo.csv\")\n",
    "slang_dict = dict(zip(slang_df.iloc[:,0], slang_df.iloc[:,1]))\n",
    "\n",
    "def normalize_slang(text, slang_dict):\n",
    "    if pd.isnull(text):\n",
    "        return \"\"\n",
    "    \n",
    "    words = text.split()\n",
    "    new_words = []\n",
    "    \n",
    "    for w in words:\n",
    "        # cek apakah slang ada di kamus\n",
    "        if w in slang_dict:\n",
    "            new_words.append(slang_dict[w])\n",
    "        else:\n",
    "            new_words.append(w)\n",
    "    \n",
    "    return \" \".join(new_words)\n",
    "\n",
    "df = pd.read_csv(\"cleaned_marketPlacesData.csv\")\n",
    "df[\"slangWord_clean\"] = df[\"data_clean\"].apply(lambda x: normalize_slang(str(x), slang_dict))\n",
    "df.to_csv(\"cleaned_marketPlacesData.csv\", index=False)\n",
    "\n",
    "print(\"Slang Replacement Success\")"
   ]
  },
  {
   "cell_type": "code",
   "execution_count": null,
   "id": "edb5a0c2-c1d1-4085-9594-eb71b104d30e",
   "metadata": {},
   "outputs": [],
   "source": []
  },
  {
   "cell_type": "code",
   "execution_count": null,
   "id": "db86b1ae-3b3c-482e-a8c9-f78a581c58f1",
   "metadata": {},
   "outputs": [],
   "source": []
  }
 ],
 "metadata": {
  "kernelspec": {
   "display_name": "Python [conda env:base] *",
   "language": "python",
   "name": "conda-base-py"
  },
  "language_info": {
   "codemirror_mode": {
    "name": "ipython",
    "version": 3
   },
   "file_extension": ".py",
   "mimetype": "text/x-python",
   "name": "python",
   "nbconvert_exporter": "python",
   "pygments_lexer": "ipython3",
   "version": "3.13.5"
  }
 },
 "nbformat": 4,
 "nbformat_minor": 5
}
